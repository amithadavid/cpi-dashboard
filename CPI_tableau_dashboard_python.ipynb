{
  "nbformat": 4,
  "nbformat_minor": 0,
  "metadata": {
    "colab": {
      "provenance": []
    },
    "kernelspec": {
      "name": "python3",
      "display_name": "Python 3"
    },
    "language_info": {
      "name": "python"
    }
  },
  "cells": [
    {
      "cell_type": "markdown",
      "source": [
        "### Data Processing and Cleaning for the CPI Dashboard\n",
        "\n",
        "by Amitha David"
      ],
      "metadata": {
        "id": "BQvZQ5v5Xlej"
      }
    },
    {
      "cell_type": "markdown",
      "source": [
        "Import necessary package and read the CSV file"
      ],
      "metadata": {
        "id": "1Z1mjgTeWgQb"
      }
    },
    {
      "cell_type": "code",
      "execution_count": null,
      "metadata": {
        "id": "VMjMka4YNFhD"
      },
      "outputs": [],
      "source": [
        "import pandas as pd\n",
        "csv_file_path = 'All_India_Index.csv'\n",
        "df = pd.read_csv(csv_file_path)"
      ]
    },
    {
      "cell_type": "markdown",
      "source": [
        "Displaying the data types of each feature"
      ],
      "metadata": {
        "id": "Vde-jCUYWnZX"
      }
    },
    {
      "cell_type": "code",
      "source": [
        "df.dtypes"
      ],
      "metadata": {
        "colab": {
          "base_uri": "https://localhost:8080/"
        },
        "id": "7cop0dC5V0MS",
        "outputId": "3c45f2a4-61bd-479f-c7fa-2535b009ba92"
      },
      "execution_count": null,
      "outputs": [
        {
          "output_type": "execute_result",
          "data": {
            "text/plain": [
              "Sector                                  object\n",
              "Year                                     int64\n",
              "Month                                   object\n",
              "Cereals and products                   float64\n",
              "Meat and fish                          float64\n",
              "Egg                                    float64\n",
              "Milk and products                      float64\n",
              "Oils and fats                          float64\n",
              "Fruits                                 float64\n",
              "Vegetables                             float64\n",
              "Pulses and products                    float64\n",
              "Sugar and Confectionery                float64\n",
              "Spices                                 float64\n",
              "Non-alcoholic beverages                float64\n",
              "Prepared meals, snacks, sweets etc.    float64\n",
              "Food and beverages                     float64\n",
              "Pan, tobacco and intoxicants           float64\n",
              "Clothing                               float64\n",
              "Footwear                               float64\n",
              "Clothing and footwear                  float64\n",
              "Housing                                 object\n",
              "Fuel and light                         float64\n",
              "Household goods and services           float64\n",
              "Health                                 float64\n",
              "Transport and communication            float64\n",
              "Recreation and amusement               float64\n",
              "Education                              float64\n",
              "Personal care and effects              float64\n",
              "Miscellaneous                          float64\n",
              "General index                          float64\n",
              "dtype: object"
            ]
          },
          "metadata": {},
          "execution_count": 7
        }
      ]
    },
    {
      "cell_type": "markdown",
      "source": [
        "Changing the datatype of 'Housing' from *object* to *numeric*"
      ],
      "metadata": {
        "id": "eIv8LofMWycD"
      }
    },
    {
      "cell_type": "code",
      "source": [
        "df['Housing'] = pd.to_numeric(df['Housing'], errors='coerce')"
      ],
      "metadata": {
        "id": "jy1qALKTWDoL"
      },
      "execution_count": null,
      "outputs": []
    },
    {
      "cell_type": "markdown",
      "source": [
        "Visualising Missing Values"
      ],
      "metadata": {
        "id": "LNYJuNXsW-ni"
      }
    },
    {
      "cell_type": "code",
      "source": [
        "missing_values = df.isna().sum()\n",
        "\n",
        "# To get the total count of missing values across the entire DataFrame, you can use:\n",
        "total_missing_values = missing_values.sum()\n",
        "\n",
        "print(\"Missing values in each column:\")\n",
        "print(missing_values)\n",
        "\n",
        "print(\"\\nTotal missing values in the DataFrame:\")\n",
        "print(total_missing_values)"
      ],
      "metadata": {
        "colab": {
          "base_uri": "https://localhost:8080/"
        },
        "id": "BncVLgraJFrm",
        "outputId": "5a2fde0e-082a-4597-9643-52ff54cdce20"
      },
      "execution_count": null,
      "outputs": [
        {
          "output_type": "stream",
          "name": "stdout",
          "text": [
            "Missing values in each column:\n",
            "Sector                                   0\n",
            "Year                                     0\n",
            "Month                                    0\n",
            "Cereals and products                     3\n",
            "Meat and fish                            6\n",
            "Egg                                      3\n",
            "Milk and products                        3\n",
            "Oils and fats                            3\n",
            "Fruits                                   3\n",
            "Vegetables                               3\n",
            "Pulses and products                      3\n",
            "Sugar and Confectionery                  3\n",
            "Spices                                   3\n",
            "Non-alcoholic beverages                  3\n",
            "Prepared meals, snacks, sweets etc.      6\n",
            "Food and beverages                       3\n",
            "Pan, tobacco and intoxicants             6\n",
            "Clothing                                 6\n",
            "Footwear                                 6\n",
            "Clothing and footwear                    6\n",
            "Housing                                125\n",
            "Fuel and light                           3\n",
            "Household goods and services             6\n",
            "Health                                   3\n",
            "Transport and communication              6\n",
            "Recreation and amusement                 6\n",
            "Education                                6\n",
            "Personal care and effects                6\n",
            "Miscellaneous                            6\n",
            "General index                            6\n",
            "dtype: int64\n",
            "\n",
            "Total missing values in the DataFrame:\n",
            "242\n"
          ]
        }
      ]
    },
    {
      "cell_type": "markdown",
      "source": [
        "Cleaning up missing values by replacing it with the column mean"
      ],
      "metadata": {
        "id": "5au9wlPDXEC3"
      }
    },
    {
      "cell_type": "code",
      "source": [
        "column_means = df.mean()\n",
        "df.fillna(column_means, inplace=True)"
      ],
      "metadata": {
        "colab": {
          "base_uri": "https://localhost:8080/"
        },
        "id": "TWzevrhnP6i1",
        "outputId": "cbe92e18-5f3b-4ba9-ddb6-8d9ae0fdce43"
      },
      "execution_count": null,
      "outputs": [
        {
          "output_type": "stream",
          "name": "stderr",
          "text": [
            "<ipython-input-10-b96dc9e50c68>:1: FutureWarning: The default value of numeric_only in DataFrame.mean is deprecated. In a future version, it will default to False. In addition, specifying 'numeric_only=None' is deprecated. Select only valid columns or specify the value of numeric_only to silence this warning.\n",
            "  column_means = df.mean()\n"
          ]
        }
      ]
    },
    {
      "cell_type": "markdown",
      "source": [
        "Convert the dataframe back to CSV and download"
      ],
      "metadata": {
        "id": "TbaA98GGXbjd"
      }
    },
    {
      "cell_type": "code",
      "source": [
        "df.to_csv('output.csv', index=False)"
      ],
      "metadata": {
        "id": "QBNWmoMIQWgH"
      },
      "execution_count": null,
      "outputs": []
    }
  ]
}